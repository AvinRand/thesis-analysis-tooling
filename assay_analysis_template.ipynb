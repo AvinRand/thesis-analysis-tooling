{
 "cells": [
  {
   "attachments": {},
   "cell_type": "markdown",
   "metadata": {},
   "source": [
    "# Module Importing"
   ]
  },
  {
   "cell_type": "code",
   "execution_count": 182,
   "metadata": {},
   "outputs": [],
   "source": [
    "import pandas as pd\n",
    "import scipy.stats\n",
    "import seaborn as sns\n",
    "import numpy as np\n",
    "import matplotlib.pyplot as plt\n",
    "\n",
    "import ooc_biosensing_binding_assay_analysis"
   ]
  },
  {
   "cell_type": "markdown",
   "metadata": {},
   "source": [
    "# Tabulating Data"
   ]
  },
  {
   "attachments": {},
   "cell_type": "markdown",
   "metadata": {},
   "source": [
    "## Importing"
   ]
  },
  {
   "cell_type": "code",
   "execution_count": 183,
   "metadata": {},
   "outputs": [],
   "source": [
    "path = \"/Users/vinny/Sync/Main/Research/Project Work/Experimental/Biosensor/Organ-On-Chip Biosensing/Pre-Pilot In-Well Characterization/Phase I/Trial IV\"\n",
    "\n",
    "layout = pd.read_csv(path + \"/plate_layout.csv\")\n",
    "data = pd.read_csv(path + \"/raw_data.csv\")"
   ]
  },
  {
   "cell_type": "code",
   "execution_count": 184,
   "metadata": {},
   "outputs": [
    {
     "data": {
      "text/html": [
       "<div>\n",
       "<style scoped>\n",
       "    .dataframe tbody tr th:only-of-type {\n",
       "        vertical-align: middle;\n",
       "    }\n",
       "\n",
       "    .dataframe tbody tr th {\n",
       "        vertical-align: top;\n",
       "    }\n",
       "\n",
       "    .dataframe thead th {\n",
       "        text-align: right;\n",
       "    }\n",
       "</style>\n",
       "<table border=\"1\" class=\"dataframe\">\n",
       "  <thead>\n",
       "    <tr style=\"text-align: right;\">\n",
       "      <th></th>\n",
       "      <th>Unnamed: 0</th>\n",
       "      <th>1</th>\n",
       "      <th>2</th>\n",
       "      <th>3</th>\n",
       "      <th>4</th>\n",
       "      <th>5</th>\n",
       "      <th>6</th>\n",
       "      <th>7</th>\n",
       "      <th>8</th>\n",
       "      <th>9</th>\n",
       "    </tr>\n",
       "  </thead>\n",
       "  <tbody>\n",
       "    <tr>\n",
       "      <th>0</th>\n",
       "      <td>A</td>\n",
       "      <td>N-Z</td>\n",
       "      <td>N-Z</td>\n",
       "      <td>N-Z</td>\n",
       "      <td>L-Z</td>\n",
       "      <td>L-Z</td>\n",
       "      <td>L-Z</td>\n",
       "      <td>H-Z</td>\n",
       "      <td>H-Z</td>\n",
       "      <td>H-Z</td>\n",
       "    </tr>\n",
       "    <tr>\n",
       "      <th>1</th>\n",
       "      <td>B</td>\n",
       "      <td>N-R-1</td>\n",
       "      <td>N-R-1</td>\n",
       "      <td>N-R-1</td>\n",
       "      <td>L-R-1</td>\n",
       "      <td>L-R-1</td>\n",
       "      <td>L-R-1</td>\n",
       "      <td>H-R-1</td>\n",
       "      <td>H-R-1</td>\n",
       "      <td>H-R-1</td>\n",
       "    </tr>\n",
       "    <tr>\n",
       "      <th>2</th>\n",
       "      <td>C</td>\n",
       "      <td>N-R-2</td>\n",
       "      <td>N-R-2</td>\n",
       "      <td>N-R-2</td>\n",
       "      <td>L-R-2</td>\n",
       "      <td>L-R-2</td>\n",
       "      <td>L-R-2</td>\n",
       "      <td>H-R-2</td>\n",
       "      <td>H-R-2</td>\n",
       "      <td>H-R-2</td>\n",
       "    </tr>\n",
       "    <tr>\n",
       "      <th>3</th>\n",
       "      <td>D</td>\n",
       "      <td>N-TO-1</td>\n",
       "      <td>N-TO-1</td>\n",
       "      <td>N-TO-1</td>\n",
       "      <td>L-TO-1</td>\n",
       "      <td>L-TO-1</td>\n",
       "      <td>L-TO-1</td>\n",
       "      <td>H-TO-1</td>\n",
       "      <td>H-TO-1</td>\n",
       "      <td>H-TO-1</td>\n",
       "    </tr>\n",
       "    <tr>\n",
       "      <th>4</th>\n",
       "      <td>E</td>\n",
       "      <td>N-TO-2</td>\n",
       "      <td>N-TO-2</td>\n",
       "      <td>N-TO-2</td>\n",
       "      <td>L-TO-2</td>\n",
       "      <td>L-TO-2</td>\n",
       "      <td>L-TO-2</td>\n",
       "      <td>H-TO-2</td>\n",
       "      <td>H-TO-2</td>\n",
       "      <td>H-TO-2</td>\n",
       "    </tr>\n",
       "    <tr>\n",
       "      <th>5</th>\n",
       "      <td>F</td>\n",
       "      <td>N-TN-1</td>\n",
       "      <td>N-TN-1</td>\n",
       "      <td>N-TN-1</td>\n",
       "      <td>L-TN-1</td>\n",
       "      <td>L-TN-1</td>\n",
       "      <td>L-TN-1</td>\n",
       "      <td>H-TN-1</td>\n",
       "      <td>H-TN-1</td>\n",
       "      <td>H-TN-1</td>\n",
       "    </tr>\n",
       "    <tr>\n",
       "      <th>6</th>\n",
       "      <td>H</td>\n",
       "      <td>N-TN-2</td>\n",
       "      <td>N-TN-2</td>\n",
       "      <td>N-TN-2</td>\n",
       "      <td>L-TN-2</td>\n",
       "      <td>L-TN-2</td>\n",
       "      <td>L-TN-2</td>\n",
       "      <td>H-TN-2</td>\n",
       "      <td>H-TN-2</td>\n",
       "      <td>H-TN-2</td>\n",
       "    </tr>\n",
       "    <tr>\n",
       "      <th>7</th>\n",
       "      <td>G</td>\n",
       "      <td>N-TN-3</td>\n",
       "      <td>N-TN-3</td>\n",
       "      <td>N-TN-3</td>\n",
       "      <td>L-TN-3</td>\n",
       "      <td>L-TN-3</td>\n",
       "      <td>L-TN-3</td>\n",
       "      <td>H-TN-3</td>\n",
       "      <td>H-TN-3</td>\n",
       "      <td>H-TN-3</td>\n",
       "    </tr>\n",
       "  </tbody>\n",
       "</table>\n",
       "</div>"
      ],
      "text/plain": [
       "  Unnamed: 0       1       2       3       4       5       6       7       8  \\\n",
       "0          A     N-Z     N-Z     N-Z     L-Z     L-Z     L-Z     H-Z     H-Z   \n",
       "1          B   N-R-1   N-R-1   N-R-1   L-R-1   L-R-1   L-R-1   H-R-1   H-R-1   \n",
       "2          C   N-R-2   N-R-2   N-R-2   L-R-2   L-R-2   L-R-2   H-R-2   H-R-2   \n",
       "3          D  N-TO-1  N-TO-1  N-TO-1  L-TO-1  L-TO-1  L-TO-1  H-TO-1  H-TO-1   \n",
       "4          E  N-TO-2  N-TO-2  N-TO-2  L-TO-2  L-TO-2  L-TO-2  H-TO-2  H-TO-2   \n",
       "5          F  N-TN-1  N-TN-1  N-TN-1  L-TN-1  L-TN-1  L-TN-1  H-TN-1  H-TN-1   \n",
       "6          H  N-TN-2  N-TN-2  N-TN-2  L-TN-2  L-TN-2  L-TN-2  H-TN-2  H-TN-2   \n",
       "7          G  N-TN-3  N-TN-3  N-TN-3  L-TN-3  L-TN-3  L-TN-3  H-TN-3  H-TN-3   \n",
       "\n",
       "        9  \n",
       "0     H-Z  \n",
       "1   H-R-1  \n",
       "2   H-R-2  \n",
       "3  H-TO-1  \n",
       "4  H-TO-2  \n",
       "5  H-TN-1  \n",
       "6  H-TN-2  \n",
       "7  H-TN-3  "
      ]
     },
     "execution_count": 184,
     "metadata": {},
     "output_type": "execute_result"
    }
   ],
   "source": [
    "layout"
   ]
  },
  {
   "cell_type": "code",
   "execution_count": 185,
   "metadata": {},
   "outputs": [
    {
     "data": {
      "text/html": [
       "<div>\n",
       "<style scoped>\n",
       "    .dataframe tbody tr th:only-of-type {\n",
       "        vertical-align: middle;\n",
       "    }\n",
       "\n",
       "    .dataframe tbody tr th {\n",
       "        vertical-align: top;\n",
       "    }\n",
       "\n",
       "    .dataframe thead th {\n",
       "        text-align: right;\n",
       "    }\n",
       "</style>\n",
       "<table border=\"1\" class=\"dataframe\">\n",
       "  <thead>\n",
       "    <tr style=\"text-align: right;\">\n",
       "      <th></th>\n",
       "      <th>Unnamed: 0</th>\n",
       "      <th>1</th>\n",
       "      <th>2</th>\n",
       "      <th>3</th>\n",
       "      <th>4</th>\n",
       "      <th>5</th>\n",
       "      <th>6</th>\n",
       "      <th>7</th>\n",
       "      <th>8</th>\n",
       "      <th>9</th>\n",
       "    </tr>\n",
       "  </thead>\n",
       "  <tbody>\n",
       "    <tr>\n",
       "      <th>0</th>\n",
       "      <td>A</td>\n",
       "      <td>0.0035</td>\n",
       "      <td>0.0024</td>\n",
       "      <td>0.0029</td>\n",
       "      <td>0.0029</td>\n",
       "      <td>0.0034</td>\n",
       "      <td>0.0048</td>\n",
       "      <td>0.0064</td>\n",
       "      <td>0.0050</td>\n",
       "      <td>0.0224</td>\n",
       "    </tr>\n",
       "    <tr>\n",
       "      <th>1</th>\n",
       "      <td>B</td>\n",
       "      <td>0.0301</td>\n",
       "      <td>0.0290</td>\n",
       "      <td>0.0269</td>\n",
       "      <td>2.8815</td>\n",
       "      <td>2.8240</td>\n",
       "      <td>2.7062</td>\n",
       "      <td>3.9031</td>\n",
       "      <td>3.8984</td>\n",
       "      <td>3.8433</td>\n",
       "    </tr>\n",
       "    <tr>\n",
       "      <th>2</th>\n",
       "      <td>C</td>\n",
       "      <td>0.0354</td>\n",
       "      <td>0.0320</td>\n",
       "      <td>0.0316</td>\n",
       "      <td>3.2338</td>\n",
       "      <td>3.1574</td>\n",
       "      <td>3.2287</td>\n",
       "      <td>3.9089</td>\n",
       "      <td>3.9058</td>\n",
       "      <td>3.9140</td>\n",
       "    </tr>\n",
       "    <tr>\n",
       "      <th>3</th>\n",
       "      <td>D</td>\n",
       "      <td>0.0119</td>\n",
       "      <td>0.0095</td>\n",
       "      <td>0.0091</td>\n",
       "      <td>0.5104</td>\n",
       "      <td>0.4975</td>\n",
       "      <td>0.4813</td>\n",
       "      <td>1.0100</td>\n",
       "      <td>1.0328</td>\n",
       "      <td>1.0162</td>\n",
       "    </tr>\n",
       "    <tr>\n",
       "      <th>4</th>\n",
       "      <td>E</td>\n",
       "      <td>0.0192</td>\n",
       "      <td>0.0149</td>\n",
       "      <td>0.0148</td>\n",
       "      <td>0.5205</td>\n",
       "      <td>0.5299</td>\n",
       "      <td>0.4821</td>\n",
       "      <td>1.0192</td>\n",
       "      <td>1.0346</td>\n",
       "      <td>1.0544</td>\n",
       "    </tr>\n",
       "    <tr>\n",
       "      <th>5</th>\n",
       "      <td>F</td>\n",
       "      <td>0.0770</td>\n",
       "      <td>0.0735</td>\n",
       "      <td>0.0630</td>\n",
       "      <td>2.5792</td>\n",
       "      <td>2.5627</td>\n",
       "      <td>2.4822</td>\n",
       "      <td>3.2518</td>\n",
       "      <td>3.2614</td>\n",
       "      <td>3.3099</td>\n",
       "    </tr>\n",
       "    <tr>\n",
       "      <th>6</th>\n",
       "      <td>H</td>\n",
       "      <td>0.1160</td>\n",
       "      <td>0.1132</td>\n",
       "      <td>0.1151</td>\n",
       "      <td>3.5195</td>\n",
       "      <td>3.5044</td>\n",
       "      <td>3.5738</td>\n",
       "      <td>3.9091</td>\n",
       "      <td>3.8993</td>\n",
       "      <td>3.9131</td>\n",
       "    </tr>\n",
       "    <tr>\n",
       "      <th>7</th>\n",
       "      <td>G</td>\n",
       "      <td>0.1539</td>\n",
       "      <td>0.1535</td>\n",
       "      <td>0.1437</td>\n",
       "      <td>3.9054</td>\n",
       "      <td>3.8741</td>\n",
       "      <td>3.9108</td>\n",
       "      <td>3.8868</td>\n",
       "      <td>3.8866</td>\n",
       "      <td>3.8847</td>\n",
       "    </tr>\n",
       "  </tbody>\n",
       "</table>\n",
       "</div>"
      ],
      "text/plain": [
       "  Unnamed: 0       1       2       3       4       5       6       7       8  \\\n",
       "0          A  0.0035  0.0024  0.0029  0.0029  0.0034  0.0048  0.0064  0.0050   \n",
       "1          B  0.0301  0.0290  0.0269  2.8815  2.8240  2.7062  3.9031  3.8984   \n",
       "2          C  0.0354  0.0320  0.0316  3.2338  3.1574  3.2287  3.9089  3.9058   \n",
       "3          D  0.0119  0.0095  0.0091  0.5104  0.4975  0.4813  1.0100  1.0328   \n",
       "4          E  0.0192  0.0149  0.0148  0.5205  0.5299  0.4821  1.0192  1.0346   \n",
       "5          F  0.0770  0.0735  0.0630  2.5792  2.5627  2.4822  3.2518  3.2614   \n",
       "6          H  0.1160  0.1132  0.1151  3.5195  3.5044  3.5738  3.9091  3.8993   \n",
       "7          G  0.1539  0.1535  0.1437  3.9054  3.8741  3.9108  3.8868  3.8866   \n",
       "\n",
       "        9  \n",
       "0  0.0224  \n",
       "1  3.8433  \n",
       "2  3.9140  \n",
       "3  1.0162  \n",
       "4  1.0544  \n",
       "5  3.3099  \n",
       "6  3.9131  \n",
       "7  3.8847  "
      ]
     },
     "execution_count": 185,
     "metadata": {},
     "output_type": "execute_result"
    }
   ],
   "source": [
    "data"
   ]
  },
  {
   "attachments": {},
   "cell_type": "markdown",
   "metadata": {},
   "source": [
    "## Blanking"
   ]
  },
  {
   "cell_type": "code",
   "execution_count": 186,
   "metadata": {},
   "outputs": [],
   "source": [
    "data.iloc[1:, 1:4] -= data.iloc[0, 1:4].mean()\n",
    "data.iloc[1:, 4:7] -= data.iloc[0, 4:7].mean()\n",
    "data.iloc[1:, 7:10] -= data.iloc[0, 7:10].mean()"
   ]
  },
  {
   "cell_type": "code",
   "execution_count": 187,
   "metadata": {},
   "outputs": [],
   "source": [
    "layout.drop(labels=0, axis=0, inplace=True)\n",
    "data.drop(labels=0, axis=0, inplace=True)\n",
    "\n",
    "layout.reset_index(drop=True, inplace=True)\n",
    "data.reset_index(drop=True, inplace=True)"
   ]
  },
  {
   "attachments": {},
   "cell_type": "markdown",
   "metadata": {},
   "source": [
    "## Categorizing"
   ]
  },
  {
   "cell_type": "code",
   "execution_count": 188,
   "metadata": {},
   "outputs": [],
   "source": [
    "readout = 'Absorbance (p.d.u.)'\n",
    "experimental_identifier = 'Pre-Pilot Phase I Trial IV'"
   ]
  },
  {
   "cell_type": "code",
   "execution_count": 189,
   "metadata": {},
   "outputs": [],
   "source": [
    "import json\n",
    "\n",
    "conditions_mapping = {'N': (\"Antigen Concentration (pg/mL)\", 0),\n",
    "                      'L': (\"Antigen Concentration (pg/mL)\", 500),\n",
    "                      'H': (\"Antigen Concentration (pg/mL)\", 2000),\n",
    "                      'R': ('Streptavidin-HRP Source', 'R & D'),\n",
    "                      'TO': ('Streptavidin-HRP Source', 'Thermo Original'),\n",
    "                      'TN': ('Streptavidin-HRP Source', 'Thermo New'),\n",
    "                      '1': ('Streptavidin-HRP Concentration (ng/mL)', 22.5),\n",
    "                      '2': ('Streptavidin-HRP Concentration (ng/mL)', 45),\n",
    "                      '3': ('Streptavidin-HRP Concentration (ng/mL)', 90),\n",
    "                      }\n",
    "\n",
    "with open(path+'/conditions_mapping.txt', 'w') as file:\n",
    "     file.write(json.dumps(conditions_mapping))"
   ]
  },
  {
   "cell_type": "code",
   "execution_count": 190,
   "metadata": {},
   "outputs": [],
   "source": [
    "organized_data = ooc_biosensing_binding_assay_analysis.categorize_assay_data(layout, data, conditions_mapping, readout, experimental_identifier, path)"
   ]
  },
  {
   "cell_type": "markdown",
   "metadata": {},
   "source": [
    "# Visualizing Data"
   ]
  },
  {
   "attachments": {},
   "cell_type": "markdown",
   "metadata": {},
   "source": [
    "## Comparing Protein Sources at Equal Concentrations"
   ]
  },
  {
   "cell_type": "code",
   "execution_count": 191,
   "metadata": {},
   "outputs": [
    {
     "data": {
      "image/png": "[encoded data removed]",
      "text/plain": [
       "<Figure size 1797.46x500 with 3 Axes>"
      ]
     },
     "metadata": {},
     "output_type": "display_data"
    }
   ],
   "source": [
    "sns.set_theme(style='white', context='talk')\n",
    "sns.catplot(kind='bar', data=organized_data[organized_data['Streptavidin-HRP Concentration (ng/mL)'] != 90], \n",
    "            x = 'Streptavidin-HRP Concentration (ng/mL)', y = 'Absorbance (p.d.u.)', hue='Streptavidin-HRP Source', col='Antigen Concentration (pg/mL)', \n",
    "            errorbar='sd', palette = 'binary', errcolor='.15', errwidth=3, capsize=.1, edgecolor=\"0\", linewidth=4, width=0.75)\n",
    "plt.savefig(path+'/Figure_Source.svg')"
   ]
  },
  {
   "attachments": {},
   "cell_type": "markdown",
   "metadata": {},
   "source": [
    "## Comparing Concentrations of the New Protein"
   ]
  },
  {
   "cell_type": "code",
   "execution_count": 192,
   "metadata": {},
   "outputs": [
    {
     "data": {
      "image/png": "[encoded data removed]",
      "text/plain": [
       "<Figure size 1797.46x500 with 3 Axes>"
      ]
     },
     "metadata": {},
     "output_type": "display_data"
    }
   ],
   "source": [
    "sns.set_theme(style='white', context='talk')\n",
    "sns.catplot(kind='bar', data=organized_data[organized_data['Streptavidin-HRP Source'] == 'Thermo New'], \n",
    "            x = 'Streptavidin-HRP Concentration (ng/mL)', y = 'Absorbance (p.d.u.)', hue='Streptavidin-HRP Source', col='Antigen Concentration (pg/mL)', \n",
    "            errorbar='sd', palette = 'binary', errcolor='.15', errwidth=3, capsize=.1, edgecolor=\"0\", linewidth=4, width=0.25)\n",
    "plt.savefig(path+'/Figure_Concentration.svg')"
   ]
  },
  {
   "cell_type": "markdown",
   "metadata": {},
   "source": [
    "# Analyzing Data"
   ]
  },
  {
   "attachments": {},
   "cell_type": "markdown",
   "metadata": {},
   "source": [
    "We'll break down the data into antigen concentration groupings and assess each streptavidin-HRP concentration within those groups separately using a one-way ANOVA (under the assumption the data are normally distributed) and, if applicable, Bartlett's test followed by the appropriate post-hoc.  The same process will be followed to assess the relationship between concentration and signal for the new protein source. "
   ]
  },
  {
   "cell_type": "code",
   "execution_count": 193,
   "metadata": {},
   "outputs": [],
   "source": [
    "ag_grouping = organized_data[(organized_data['Antigen Concentration (pg/mL)'] == 0)].groupby(['Streptavidin-HRP Source', 'Streptavidin-HRP Concentration (ng/mL)'])"
   ]
  },
  {
   "attachments": {},
   "cell_type": "markdown",
   "metadata": {},
   "source": [
    "## ANOVA for Protein Source Comparison"
   ]
  },
  {
   "cell_type": "code",
   "execution_count": 194,
   "metadata": {},
   "outputs": [
    {
     "data": {
      "text/plain": [
       "F_onewayResult(statistic=151.7450879007245, pvalue=7.286402334409062e-06)"
      ]
     },
     "execution_count": 194,
     "metadata": {},
     "output_type": "execute_result"
    }
   ],
   "source": [
    "scipy.stats.f_oneway(ag_grouping.get_group(('R & D', 22.5))['Absorbance (p.d.u.)'], \n",
    "                     ag_grouping.get_group(('Thermo Original', 22.5))['Absorbance (p.d.u.)'], \n",
    "                     ag_grouping.get_group(('Thermo New', 22.5))['Absorbance (p.d.u.)'])"
   ]
  },
  {
   "cell_type": "code",
   "execution_count": 195,
   "metadata": {},
   "outputs": [
    {
     "data": {
      "text/plain": [
       "BartlettResult(statistic=5.093372215694446, pvalue=0.07834084943717408)"
      ]
     },
     "execution_count": 195,
     "metadata": {},
     "output_type": "execute_result"
    }
   ],
   "source": [
    "scipy.stats.bartlett(ag_grouping.get_group(('R & D', 22.5))['Absorbance (p.d.u.)'], \n",
    "                     ag_grouping.get_group(('Thermo Original', 22.5))['Absorbance (p.d.u.)'], \n",
    "                     ag_grouping.get_group(('Thermo New', 22.5))['Absorbance (p.d.u.)'])"
   ]
  },
  {
   "cell_type": "code",
   "execution_count": 196,
   "metadata": {},
   "outputs": [
    {
     "name": "stdout",
     "output_type": "stream",
     "text": [
      "Tukey's HSD Pairwise Group Comparisons (95.0% Confidence Interval)\n",
      "Comparison  Statistic  p-value  Lower CI  Upper CI\n",
      " (0 - 1)      0.018     0.005     0.007     0.030\n",
      " (0 - 2)     -0.042     0.000    -0.054    -0.031\n",
      " (1 - 0)     -0.018     0.005    -0.030    -0.007\n",
      " (1 - 2)     -0.061     0.000    -0.072    -0.050\n",
      " (2 - 0)      0.042     0.000     0.031     0.054\n",
      " (2 - 1)      0.061     0.000     0.050     0.072\n",
      "\n"
     ]
    }
   ],
   "source": [
    "print(scipy.stats.tukey_hsd(ag_grouping.get_group(('R & D', 22.5))['Absorbance (p.d.u.)'], \n",
    "                            ag_grouping.get_group(('Thermo Original', 22.5))['Absorbance (p.d.u.)'], \n",
    "                            ag_grouping.get_group(('Thermo New', 22.5))['Absorbance (p.d.u.)']))"
   ]
  },
  {
   "attachments": {},
   "cell_type": "markdown",
   "metadata": {},
   "source": [
    "The 22.5 ng/mL streptavidin-HRP group appears to have significant differences across the three protein sources assessed."
   ]
  },
  {
   "cell_type": "code",
   "execution_count": 197,
   "metadata": {},
   "outputs": [
    {
     "data": {
      "text/plain": [
       "F_onewayResult(statistic=1965.6955951758093, pvalue=3.5385721522719673e-09)"
      ]
     },
     "execution_count": 197,
     "metadata": {},
     "output_type": "execute_result"
    }
   ],
   "source": [
    "scipy.stats.f_oneway(ag_grouping.get_group(('R & D', 45))['Absorbance (p.d.u.)'], \n",
    "                     ag_grouping.get_group(('Thermo Original', 45))['Absorbance (p.d.u.)'], \n",
    "                     ag_grouping.get_group(('Thermo New', 45))['Absorbance (p.d.u.)'])"
   ]
  },
  {
   "cell_type": "code",
   "execution_count": 198,
   "metadata": {},
   "outputs": [
    {
     "data": {
      "text/plain": [
       "BartlettResult(statistic=0.49569851996850317, pvalue=0.7804775836145038)"
      ]
     },
     "execution_count": 198,
     "metadata": {},
     "output_type": "execute_result"
    }
   ],
   "source": [
    "scipy.stats.bartlett(ag_grouping.get_group(('R & D', 45))['Absorbance (p.d.u.)'], \n",
    "                     ag_grouping.get_group(('Thermo Original', 45))['Absorbance (p.d.u.)'], \n",
    "                     ag_grouping.get_group(('Thermo New', 45))['Absorbance (p.d.u.)'])"
   ]
  },
  {
   "cell_type": "code",
   "execution_count": 199,
   "metadata": {},
   "outputs": [
    {
     "name": "stdout",
     "output_type": "stream",
     "text": [
      "Tukey's HSD Pairwise Group Comparisons (95.0% Confidence Interval)\n",
      "Comparison  Statistic  p-value  Lower CI  Upper CI\n",
      " (0 - 1)      0.017     0.000     0.012     0.022\n",
      " (0 - 2)     -0.082     0.000    -0.087    -0.077\n",
      " (1 - 0)     -0.017     0.000    -0.022    -0.012\n",
      " (1 - 2)     -0.098     0.000    -0.104    -0.093\n",
      " (2 - 0)      0.082     0.000     0.077     0.087\n",
      " (2 - 1)      0.098     0.000     0.093     0.104\n",
      "\n"
     ]
    }
   ],
   "source": [
    "print(scipy.stats.tukey_hsd(ag_grouping.get_group(('R & D', 45))['Absorbance (p.d.u.)'], \n",
    "                            ag_grouping.get_group(('Thermo Original', 45))['Absorbance (p.d.u.)'], \n",
    "                            ag_grouping.get_group(('Thermo New', 45))['Absorbance (p.d.u.)']))"
   ]
  },
  {
   "attachments": {},
   "cell_type": "markdown",
   "metadata": {},
   "source": [
    "The 45 ng/mL streptavidin-HRP group appears to have significant differences across the three protein sources assessed."
   ]
  },
  {
   "attachments": {},
   "cell_type": "markdown",
   "metadata": {},
   "source": [
    "## ANOVA for Concentration Comparison"
   ]
  },
  {
   "cell_type": "code",
   "execution_count": 200,
   "metadata": {},
   "outputs": [
    {
     "data": {
      "text/plain": [
       "F_onewayResult(statistic=160.01627118644214, pvalue=6.232623594128903e-06)"
      ]
     },
     "execution_count": 200,
     "metadata": {},
     "output_type": "execute_result"
    }
   ],
   "source": [
    "scipy.stats.f_oneway(ag_grouping.get_group(('Thermo New', 22.5))['Absorbance (p.d.u.)'], ag_grouping.get_group(('Thermo New', 45))['Absorbance (p.d.u.)'], ag_grouping.get_group(('Thermo New', 90))['Absorbance (p.d.u.)'])"
   ]
  },
  {
   "cell_type": "code",
   "execution_count": 201,
   "metadata": {},
   "outputs": [
    {
     "data": {
      "text/plain": [
       "BartlettResult(statistic=3.2055842373998398, pvalue=0.20133358520461397)"
      ]
     },
     "execution_count": 201,
     "metadata": {},
     "output_type": "execute_result"
    }
   ],
   "source": [
    "scipy.stats.bartlett(ag_grouping.get_group(('Thermo New', 22.5))['Absorbance (p.d.u.)'], ag_grouping.get_group(('Thermo New', 45))['Absorbance (p.d.u.)'], ag_grouping.get_group(('Thermo New', 90))['Absorbance (p.d.u.)'])"
   ]
  },
  {
   "cell_type": "code",
   "execution_count": 205,
   "metadata": {},
   "outputs": [
    {
     "name": "stdout",
     "output_type": "stream",
     "text": [
      "Tukey's HSD Pairwise Group Comparisons (95.0% Confidence Interval)\n",
      "Comparison  Statistic  p-value  Lower CI  Upper CI\n",
      " (0 - 1)     -0.044     0.000    -0.057    -0.030\n",
      " (0 - 2)     -0.079     0.000    -0.093    -0.066\n",
      " (1 - 0)      0.044     0.000     0.030     0.057\n",
      " (1 - 2)     -0.036     0.000    -0.049    -0.022\n",
      " (2 - 0)      0.079     0.000     0.066     0.093\n",
      " (2 - 1)      0.036     0.000     0.022     0.049\n",
      "\n"
     ]
    }
   ],
   "source": [
    "print(scipy.stats.tukey_hsd(ag_grouping.get_group(('Thermo New', 22.5))['Absorbance (p.d.u.)'], ag_grouping.get_group(('Thermo New', 45))['Absorbance (p.d.u.)'], ag_grouping.get_group(('Thermo New', 90))['Absorbance (p.d.u.)']))"
   ]
  },
  {
   "attachments": {},
   "cell_type": "markdown",
   "metadata": {},
   "source": [
    "## Saving a Data Summary"
   ]
  },
  {
   "cell_type": "code",
   "execution_count": 203,
   "metadata": {},
   "outputs": [],
   "source": [
    "organized_data.groupby(['Antigen Concentration (pg/mL)', 'Streptavidin-HRP Source', 'Streptavidin-HRP Concentration (ng/mL)']).describe().to_csv(path + '/Data_Summary.csv')"
   ]
  }
 ],
 "metadata": {
  "kernelspec": {
   "display_name": "Airway",
   "language": "python",
   "name": "python3"
  },
  "language_info": {
   "codemirror_mode": {
    "name": "ipython",
    "version": 3
   },
   "file_extension": ".py",
   "mimetype": "text/x-python",
   "name": "python",
   "nbconvert_exporter": "python",
   "pygments_lexer": "ipython3",
   "version": "3.9.16"
  },
  "orig_nbformat": 4
 },
 "nbformat": 4,
 "nbformat_minor": 2
}
